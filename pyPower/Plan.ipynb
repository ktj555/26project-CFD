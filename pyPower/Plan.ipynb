{
 "cells": [
  {
   "cell_type": "markdown",
   "metadata": {},
   "source": [
    "# memo"
   ]
  },
  {
   "cell_type": "markdown",
   "metadata": {},
   "source": [
    "# input value\n",
    "\n",
    "<table>\n",
    "    <tr>\n",
    "        <td>Index</td>\n",
    "        <td>list</td>\n",
    "        <td>details</td>\n",
    "        <td>structure</td>\n",
    "    </tr>\n",
    "    <tr>\n",
    "        <td rowspan=\"6\">Property</td>\n",
    "        <td rowspan=\"2\">basic</td>\n",
    "        <td>conductivity</td>\n",
    "        <td>function</td>\n",
    "    </tr>\n",
    "    <tr>\n",
    "        <td>specific heat</td>\n",
    "        <td>function</td>\n",
    "    </tr>\n",
    "    <tr>\n",
    "        <td>fluid</td>\n",
    "        <td>viscosity</td>\n",
    "        <td>function</td>\n",
    "    </tr>\n",
    "    <tr>\n",
    "        <td>solid</td>\n",
    "        <td colspan=\"2\">None</td>\n",
    "    </tr>\n",
    "    <tr>\n",
    "        <td rowspan=\"2\">Electric</td>\n",
    "        <td>seebeck coefficient</td>\n",
    "        <td>function</td>\n",
    "    </tr>\n",
    "    <tr>\n",
    "        <td>resistance</td>\n",
    "        <td>function</td>\n",
    "    </tr>\n",
    "    <tr>\n",
    "        <td rowspan=\"4\">shape</td>\n",
    "        <td rowspan=\"2\">path</td>\n",
    "        <td>flow</td>\n",
    "        <td rowspan=\"2\">graph</td>\n",
    "    </tr>\n",
    "    <tr>\n",
    "        <td>electric</td>\n",
    "    </tr>    \n",
    "    <tr>\n",
    "        <td colspan=\"2\">heatsink</td>\n",
    "        <td>dictionary</td>\n",
    "    </tr>\n",
    "    <tr>\n",
    "        <td colspan=\"2\">Thermal Electric Module</td>\n",
    "        <td>dictionary</td>\n",
    "    </tr>\n",
    "</table>"
   ]
  },
  {
   "cell_type": "markdown",
   "metadata": {},
   "source": [
    "# Class\n",
    "### system (setting)\n",
    "* input configs and conditions\n",
    "* pass C and catch the result from C\n",
    "    * c\n",
    "* print convergence\n",
    "* save result\n",
    "* stop and resetting  \n",
    "  \n",
    "### configs (solver)\n",
    "* input hot and cold side figures\n",
    "* input condition : output equation (like filter)\n",
    "* condtion : fluid state of in and out face\n",
    "* output : equation\n"
   ]
  },
  {
   "cell_type": "markdown",
   "metadata": {},
   "source": [
    "# Data structure\n",
    "### path\n",
    "* list  \n",
    "  \n",
    "### state\n",
    "* class state\n",
    "    * member various : fluid, Pressure, Temperature, velocity (average)"
   ]
  },
  {
   "cell_type": "markdown",
   "metadata": {},
   "source": [
    "System class has\n",
    "member variables :  path(flow & electric), module\n",
    "member function  :  setup(create list of order of calculation of flow and electric)\n",
    "                    solve(solve equations by passing to C language function and bring results for C)\n",
    "                    plot\n",
    "\n",
    "Module class has\n",
    "member variables :  thermal electric module, hot and cool side\n",
    "member function  :  return equation (return equations and variables of equations to str type)\n",
    "\n",
    "Path class has\n",
    "member variables : nodes, edges\n",
    "\n",
    "hot and cool side class has\n",
    "member varialbles : fluid, inlet velocity & temperature\n",
    "\n",
    "fluid class has\n",
    "member varialbes : viscosity, density, conductivity, specific heat\n",
    "\n",
    "solid class has\n",
    "member variables : seebeck, resistance, density, conductivity, specific heat"
   ]
  }
 ],
 "metadata": {
  "kernelspec": {
   "display_name": "Python 3.9.12 ('base')",
   "language": "python",
   "name": "python3"
  },
  "language_info": {
   "codemirror_mode": {
    "name": "ipython",
    "version": 3
   },
   "file_extension": ".py",
   "mimetype": "text/x-python",
   "name": "python",
   "nbconvert_exporter": "python",
   "pygments_lexer": "ipython3",
   "version": "3.9.12"
  },
  "orig_nbformat": 4,
  "vscode": {
   "interpreter": {
    "hash": "0987569110f5f7df05f6ad8acc59b65acd4a1949bbbda04f5ede393329b91967"
   }
  }
 },
 "nbformat": 4,
 "nbformat_minor": 2
}
