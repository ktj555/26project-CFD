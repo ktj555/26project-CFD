{
 "cells": [
  {
   "cell_type": "markdown",
   "metadata": {},
   "source": [
    "# input value\n",
    "\n",
    "<table>\n",
    "    <tr>\n",
    "        <td>Index</td>\n",
    "        <td>list</td>\n",
    "        <td>details</td>\n",
    "        <td>structure</td>\n",
    "    </tr>\n",
    "    <tr>\n",
    "        <td rowspan=\"6\">Property</td>\n",
    "        <td rowspan=\"2\">basic</td>\n",
    "        <td>conductivity</td>\n",
    "        <td>function</td>\n",
    "    </tr>\n",
    "    <tr>\n",
    "        <td>specific heat</td>\n",
    "        <td>function</td>\n",
    "    </tr>\n",
    "    <tr>\n",
    "        <td>fluid</td>\n",
    "        <td>viscosity</td>\n",
    "        <td>function</td>\n",
    "    </tr>\n",
    "    <tr>\n",
    "        <td>solid</td>\n",
    "        <td colspan=\"2\">None</td>\n",
    "    </tr>\n",
    "    <tr>\n",
    "        <td rowspan=\"2\">Electric</td>\n",
    "        <td>seebeck coefficient</td>\n",
    "        <td>function</td>\n",
    "    </tr>\n",
    "    <tr>\n",
    "        <td>resistance</td>\n",
    "        <td>function</td>\n",
    "    </tr>\n",
    "    <tr>\n",
    "        <td rowspan=\"4\">shape</td>\n",
    "        <td rowspan=\"2\">path</td>\n",
    "        <td>flow</td>\n",
    "        <td rowspan=\"2\">graph</td>\n",
    "    </tr>\n",
    "    <tr>\n",
    "        <td>electric</td>\n",
    "    </tr>    \n",
    "    <tr>\n",
    "        <td colspan=\"2\">heatsink</td>\n",
    "        <td>dictionary</td>\n",
    "    </tr>\n",
    "    <tr>\n",
    "        <td colspan=\"2\">Thermal Electric Module</td>\n",
    "        <td>dictionary</td>\n",
    "    </tr>\n",
    "</table>"
   ]
  },
  {
   "cell_type": "markdown",
   "metadata": {},
   "source": [
    "# i will use that class"
   ]
  },
  {
   "cell_type": "code",
   "execution_count": 1,
   "metadata": {},
   "outputs": [],
   "source": [
    "from abc import *"
   ]
  },
  {
   "cell_type": "code",
   "execution_count": 2,
   "metadata": {},
   "outputs": [],
   "source": [
    "class material(metaclass=ABCMeta):\n",
    "    pass\n",
    "class fluid(material):\n",
    "    pass\n",
    "class solid(material):\n",
    "    pass\n",
    "\n",
    "\n",
    "class duct(metaclass=ABCMeta):\n",
    "    pass\n",
    "class Rectangle(duct):\n",
    "    pass\n",
    "class Cylinder(duct):\n",
    "    pass\n",
    "\n",
    "\n",
    "class structure(metaclass=ABCMeta):\n",
    "    pass\n",
    "class platefinheatsink(structure):\n",
    "    pass\n",
    "class pinfinheatsink(structure):\n",
    "    pass\n",
    "class rib(structure):\n",
    "    pass"
   ]
  },
  {
   "cell_type": "markdown",
   "metadata": {},
   "source": [
    "# System class"
   ]
  },
  {
   "cell_type": "code",
   "execution_count": 3,
   "metadata": {},
   "outputs": [],
   "source": [
    "class system:\n",
    "    def __init__(self,configs=None,paths=None):\n",
    "        self.__configs=configs\n",
    "        self.__path=paths\n",
    "\n",
    "    def get_config(self,index):\n",
    "        '''Return Specific config\n",
    "        Enter the index you want to get into the configs\n",
    "        index : int or tuple'''\n",
    "        # it is maked for get_configs\n",
    "        # Also, it can be use alone\n",
    "        pass\n",
    "\n",
    "    def set_config(self,index,config):\n",
    "        '''Set Specific config\n",
    "        Enter the index you want to set into the configs\n",
    "        index : int or tuple'''\n",
    "        # it is maked for set_configs\n",
    "        # Also, it can be use alone\n",
    "        pass\n",
    "\n",
    "    def get_configs(self,range='all'):\n",
    "        '''Return configs that are included entered range\n",
    "        range is initialized all components\n",
    "        range : tuple'''\n",
    "        pass\n",
    "\n",
    "    def set_configs(self,config,range='all'):\n",
    "        '''Set configs that are included entered range\n",
    "        range is initialized all components\n",
    "        range : tuple'''\n",
    "        pass\n",
    "    \n",
    "    def get_material(self,index):\n",
    "        '''Return Specific material into the configs '''\n",
    "\n",
    "    def set_material(self,index,material):\n",
    "        self.__configs[index].set_ma"
   ]
  },
  {
   "cell_type": "markdown",
   "metadata": {},
   "source": [
    "# Class\n",
    "### system (setting)\n",
    "* input configs and conditions\n",
    "* pass C and catch the result from C\n",
    "    * c\n",
    "* print convergence\n",
    "* save result\n",
    "* stop and resetting  \n",
    "  \n",
    "### configs (solver)\n",
    "* input hot and cold side figures\n",
    "* input condition : output equation (like filter)\n",
    "* condtion : fluid state of in and out face\n",
    "* output : equation\n"
   ]
  },
  {
   "cell_type": "markdown",
   "metadata": {},
   "source": [
    "# Data structure\n",
    "### path\n",
    "* list  \n",
    "  \n",
    "### state\n",
    "* class state\n",
    "    * member various : fluid, Pressure, Temperature, velocity (average)"
   ]
  },
  {
   "cell_type": "markdown",
   "metadata": {},
   "source": []
  }
 ],
 "metadata": {
  "kernelspec": {
   "display_name": "Python 3.9.12 ('base')",
   "language": "python",
   "name": "python3"
  },
  "language_info": {
   "codemirror_mode": {
    "name": "ipython",
    "version": 3
   },
   "file_extension": ".py",
   "mimetype": "text/x-python",
   "name": "python",
   "nbconvert_exporter": "python",
   "pygments_lexer": "ipython3",
   "version": "3.9.12"
  },
  "orig_nbformat": 4,
  "vscode": {
   "interpreter": {
    "hash": "0987569110f5f7df05f6ad8acc59b65acd4a1949bbbda04f5ede393329b91967"
   }
  }
 },
 "nbformat": 4,
 "nbformat_minor": 2
}
