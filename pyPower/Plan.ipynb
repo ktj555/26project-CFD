{
 "cells": [
  {
   "cell_type": "markdown",
   "metadata": {},
   "source": [
    "# input value\n",
    "\n",
    "<table>\n",
    "    <tr>\n",
    "        <td>Index</td>\n",
    "        <td>list</td>\n",
    "        <td>details</td>\n",
    "        <td>structure</td>\n",
    "    </tr>\n",
    "    <tr>\n",
    "        <td rowspan=\"6\">Property</td>\n",
    "        <td rowspan=\"2\">basic</td>\n",
    "        <td>conductivity</td>\n",
    "        <td>function</td>\n",
    "    </tr>\n",
    "    <tr>\n",
    "        <td>specific heat</td>\n",
    "        <td>function</td>\n",
    "    </tr>\n",
    "    <tr>\n",
    "        <td>fluid</td>\n",
    "        <td>viscosity</td>\n",
    "        <td>function</td>\n",
    "    </tr>\n",
    "    <tr>\n",
    "        <td>solid</td>\n",
    "        <td colspan=\"2\">None</td>\n",
    "    </tr>\n",
    "    <tr>\n",
    "        <td rowspan=\"2\">Electric</td>\n",
    "        <td>seebeck coefficient</td>\n",
    "        <td>function</td>\n",
    "    </tr>\n",
    "    <tr>\n",
    "        <td>resistance</td>\n",
    "        <td>function</td>\n",
    "    </tr>\n",
    "    <tr>\n",
    "        <td rowspan=\"4\">shape</td>\n",
    "        <td rowspan=\"2\">path</td>\n",
    "        <td>flow</td>\n",
    "        <td rowspan=\"2\">graph</td>\n",
    "    </tr>\n",
    "    <tr>\n",
    "        <td>electric</td>\n",
    "    </tr>    \n",
    "    <tr>\n",
    "        <td colspan=\"2\">heatsink</td>\n",
    "        <td>dictionary</td>\n",
    "    </tr>\n",
    "    <tr>\n",
    "        <td colspan=\"2\">Thermal Electric Module</td>\n",
    "        <td>dictionary</td>\n",
    "    </tr>\n",
    "</table>"
   ]
  },
  {
   "cell_type": "markdown",
   "metadata": {},
   "source": [
    "Class \n",
    ">material\n",
    ">>fluid  \n",
    "solid  \n",
    "Thermal Electric Module  "
   ]
  },
  {
   "cell_type": "markdown",
   "metadata": {},
   "source": []
  }
 ],
 "metadata": {
  "kernelspec": {
   "display_name": "Python 3.9.12 ('base')",
   "language": "python",
   "name": "python3"
  },
  "language_info": {
   "name": "python",
   "version": "3.9.12"
  },
  "orig_nbformat": 4,
  "vscode": {
   "interpreter": {
    "hash": "0987569110f5f7df05f6ad8acc59b65acd4a1949bbbda04f5ede393329b91967"
   }
  }
 },
 "nbformat": 4,
 "nbformat_minor": 2
}
