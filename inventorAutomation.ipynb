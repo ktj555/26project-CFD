{
 "cells": [
  {
   "cell_type": "markdown",
   "metadata": {},
   "source": [
    "# Inventor Automation by using pywin32"
   ]
  },
  {
   "cell_type": "markdown",
   "metadata": {},
   "source": [
    "Window API를 활용하여 AutoDesk Inventor를 핸들링하는 라이브러리를 제작한 깃헙을 드뎌 발견했습니다!!  \n",
    "기능은 단순한 스캐치와 extrude 정도를 제공하며 고차원의 기능은 아직 구현되지 않은 데모 버젼...  \n",
    "따라서 위 라이브러리를 참고하여 필요한 기능을 구현하고자 합니다.  \n",
    "그를 위해 직접 소스코드를 뜯어보며 작동 원리를 공부해보고 있습니다.  \n",
    "\n",
    "참고 자료가 굉장히 부족하기 때문에 직접 라이브러리들을 뜯어보며 공부하였습니다...  \n",
    "따라서 win32com.client 라이브러리가 어떻게 작동하는지도 함께 공부하였습니다.  \n",
    "Inventor에서 제공하는 API를 함께 활용하여야 하기 때문에 Inventor 공식 문서도 함께 참고하였습니다.\n",
    "\n",
    "Reference\n",
    "Andrew Oriani / PyInventor library / https://github.com/AndrewOriani/PyInventor  \n",
    "AutoDesk Inventor2023 Document / https://help.autodesk.com/view/INVNTOR/2023/ENU/"
   ]
  },
  {
   "cell_type": "code",
   "execution_count": null,
   "metadata": {},
   "outputs": [],
   "source": [
    "# Basic Moduie\n",
    "import win32com.client\n",
    "\n",
    "# win32com.client.Dispatch 는 인자의 COM(Component Object Model) Object를 반환한다.\n",
    "# invapp에는 Inventor 라는 App의 COM를 가지는 것\n",
    "invapp=win32com.client.Dispatch('Inventor.Application')\n",
    "\n",
    "# Type library의 CSLID를 인수로 전달 받아 그에 대한 Python Module를 반환한다.\n",
    "mod=win32com.client.gencache.EnsureModule('{D98A091D-3A0F-4C3E-B36E-61F62068D488}',0,1,0)\n",
    "invappcom=mod.Application(invapp)"
   ]
  },
  {
   "cell_type": "markdown",
   "metadata": {},
   "source": [
    "```Python\n",
    "    def Dispatch(\n",
    "        dispatch,\n",
    "        userName=None,\n",
    "        resultCLSID=None,\n",
    "        typeinfo=None,\n",
    "        UnicodeToString=None,\n",
    "        clsctx=pythoncom.CLSCTX_SERVER,\n",
    "    ):\n",
    "        \"\"\"Creates a Dispatch based COM object.\"\"\"\n",
    "```"
   ]
  },
  {
   "cell_type": "markdown",
   "metadata": {},
   "source": [
    "```Python\n",
    "    def EnsureModule(\n",
    "        typelibCLSID,\n",
    "        lcid,\n",
    "        major,\n",
    "        minor,\n",
    "        progressInstance=None,\n",
    "        bValidateFile=not is_readonly,\n",
    "        bForDemand=bForDemandDefault,\n",
    "        bBuildHidden=1,\n",
    "    ):\n",
    "        \"\"\"Ensure Python support is loaded for a type library, generating if necessary.\n",
    "        \n",
    "        ...\n",
    "        \n",
    "        Returns the Python module.  No exceptions are caught during the generate process.\n",
    "```"
   ]
  },
  {
   "cell_type": "code",
   "execution_count": null,
   "metadata": {},
   "outputs": [],
   "source": [
    "# inventor COM에 있는 문서 파일을 참고하여 새로운 문서를 추가한다.\n",
    "# Inventor의 정의되어있는 kPartDocumentObject를 불러온다.\n",
    "Doc=invapp.Documents.Add(win32com.client.constants.kPartDocumentObject,\"\",True)"
   ]
  },
  {
   "cell_type": "code",
   "execution_count": null,
   "metadata": {},
   "outputs": [],
   "source": [
    "# \n",
    "invPartDoc=mod.PartDocument(Doc)\n",
    "compdef=invPartDoc.ComponentDefinition"
   ]
  },
  {
   "cell_type": "code",
   "execution_count": null,
   "metadata": {},
   "outputs": [],
   "source": [
    "oDoc=invappcom.ActiveDocument"
   ]
  },
  {
   "cell_type": "code",
   "execution_count": null,
   "metadata": {},
   "outputs": [],
   "source": [
    "cmdManager=invapp.CommandManager"
   ]
  },
  {
   "cell_type": "code",
   "execution_count": null,
   "metadata": {},
   "outputs": [],
   "source": [
    "tg=invapp.TransientGeometry\n",
    "trans_obj=invapp.TransientObjects\n",
    "view=invapp.ActiveView"
   ]
  }
 ],
 "metadata": {
  "kernelspec": {
   "display_name": "Python 3.9.12 ('base')",
   "language": "python",
   "name": "python3"
  },
  "language_info": {
   "name": "python",
   "version": "3.9.12"
  },
  "orig_nbformat": 4,
  "vscode": {
   "interpreter": {
    "hash": "0987569110f5f7df05f6ad8acc59b65acd4a1949bbbda04f5ede393329b91967"
   }
  }
 },
 "nbformat": 4,
 "nbformat_minor": 2
}
