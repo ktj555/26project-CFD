{
 "cells": [
  {
   "cell_type": "code",
   "execution_count": 1,
   "metadata": {},
   "outputs": [],
   "source": [
    "x1=[1,2,3]\n",
    "x2=[4,5,6]\n",
    "\n",
    "X=[x1,x2,x1,x2]"
   ]
  },
  {
   "cell_type": "code",
   "execution_count": 2,
   "metadata": {},
   "outputs": [
    {
     "name": "stdout",
     "output_type": "stream",
     "text": [
      "[1, 2, 3]\n",
      "[4, 5, 6]\n",
      "[1, 0, 3]\n",
      "[4, 0, 6]\n"
     ]
    }
   ],
   "source": [
    "for i in X:\n",
    "    print(i)\n",
    "    i[1]=0"
   ]
  },
  {
   "cell_type": "code",
   "execution_count": 2,
   "metadata": {},
   "outputs": [
    {
     "data": {
      "text/plain": [
       "[1, 2, 3, 4, 5, 6]"
      ]
     },
     "execution_count": 2,
     "metadata": {},
     "output_type": "execute_result"
    }
   ],
   "source": [
    "x=[1,2,3]\n",
    "y=[4,5,6]\n",
    "z=[]\n",
    "z+=x+y\n",
    "z"
   ]
  },
  {
   "cell_type": "code",
   "execution_count": 18,
   "metadata": {},
   "outputs": [
    {
     "data": {
      "text/plain": [
       "array([[ 1.24782369e-03,  9.78071625e-04,  7.08319559e-04,\n",
       "         4.38567493e-04,  1.68815427e-04, -1.00936639e-04,\n",
       "        -3.70688705e-04, -6.40440771e-04, -9.10192837e-04,\n",
       "        -1.17994490e-03],\n",
       "       [ 9.78071625e-04,  7.66648301e-04,  5.55224977e-04,\n",
       "         3.43801653e-04,  1.32378329e-04, -7.90449954e-05,\n",
       "        -2.90468320e-04, -5.01891644e-04, -7.13314968e-04,\n",
       "        -9.24738292e-04],\n",
       "       [ 7.08319559e-04,  5.55224977e-04,  4.02130395e-04,\n",
       "         2.49035813e-04,  9.59412305e-05, -5.71533517e-05,\n",
       "        -2.10247934e-04, -3.63342516e-04, -5.16437098e-04,\n",
       "        -6.69531680e-04],\n",
       "       [ 4.38567493e-04,  3.43801653e-04,  2.49035813e-04,\n",
       "         1.54269972e-04,  5.95041322e-05, -3.52617080e-05,\n",
       "        -1.30027548e-04, -2.24793388e-04, -3.19559229e-04,\n",
       "        -4.14325069e-04],\n",
       "       [ 1.68815427e-04,  1.32378329e-04,  9.59412305e-05,\n",
       "         5.95041322e-05,  2.30670340e-05, -1.33700643e-05,\n",
       "        -4.98071625e-05, -8.62442608e-05, -1.22681359e-04,\n",
       "        -1.59118457e-04],\n",
       "       [-1.00936639e-04, -7.90449954e-05, -5.71533517e-05,\n",
       "        -3.52617080e-05, -1.33700643e-05,  8.52157943e-06,\n",
       "         3.04132231e-05,  5.23048669e-05,  7.41965106e-05,\n",
       "         9.60881543e-05],\n",
       "       [-3.70688705e-04, -2.90468320e-04, -2.10247934e-04,\n",
       "        -1.30027548e-04, -4.98071625e-05,  3.04132231e-05,\n",
       "         1.10633609e-04,  1.90853994e-04,  2.71074380e-04,\n",
       "         3.51294766e-04],\n",
       "       [-6.40440771e-04, -5.01891644e-04, -3.63342516e-04,\n",
       "        -2.24793388e-04, -8.62442608e-05,  5.23048669e-05,\n",
       "         1.90853994e-04,  3.29403122e-04,  4.67952250e-04,\n",
       "         6.06501377e-04],\n",
       "       [-9.10192837e-04, -7.13314968e-04, -5.16437098e-04,\n",
       "        -3.19559229e-04, -1.22681359e-04,  7.41965106e-05,\n",
       "         2.71074380e-04,  4.67952250e-04,  6.64830119e-04,\n",
       "         8.61707989e-04],\n",
       "       [-1.17994490e-03, -9.24738292e-04, -6.69531680e-04,\n",
       "        -4.14325069e-04, -1.59118457e-04,  9.60881543e-05,\n",
       "         3.51294766e-04,  6.06501377e-04,  8.61707989e-04,\n",
       "         1.11691460e-03]])"
      ]
     },
     "execution_count": 18,
     "metadata": {},
     "output_type": "execute_result"
    }
   ],
   "source": [
    "import numpy as np\n",
    "n=10\n",
    "A=np.arange(n**2).reshape((n,n))\n",
    "B=np.dot(np.transpose(A),A)\n",
    "np.linalg.pinv(B)"
   ]
  },
  {
   "cell_type": "code",
   "execution_count": 23,
   "metadata": {},
   "outputs": [
    {
     "data": {
      "text/plain": [
       "[[1, 3], [4, 5, 6], [7, 8, 9]]"
      ]
     },
     "execution_count": 23,
     "metadata": {},
     "output_type": "execute_result"
    }
   ],
   "source": [
    "test=[[1,2,3],[4,5,6],[7,8,9]]\n",
    "l=test[0]\n",
    "l.remove(2)\n",
    "test"
   ]
  },
  {
   "cell_type": "code",
   "execution_count": null,
   "metadata": {},
   "outputs": [],
   "source": []
  }
 ],
 "metadata": {
  "kernelspec": {
   "display_name": "Python 3.9.12 ('base')",
   "language": "python",
   "name": "python3"
  },
  "language_info": {
   "codemirror_mode": {
    "name": "ipython",
    "version": 3
   },
   "file_extension": ".py",
   "mimetype": "text/x-python",
   "name": "python",
   "nbconvert_exporter": "python",
   "pygments_lexer": "ipython3",
   "version": "3.9.12"
  },
  "orig_nbformat": 4,
  "vscode": {
   "interpreter": {
    "hash": "0987569110f5f7df05f6ad8acc59b65acd4a1949bbbda04f5ede393329b91967"
   }
  }
 },
 "nbformat": 4,
 "nbformat_minor": 2
}
