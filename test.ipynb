{
 "cells": [
  {
   "cell_type": "code",
   "execution_count": 1,
   "metadata": {},
   "outputs": [],
   "source": [
    "x1=[1,2,3]\n",
    "x2=[4,5,6]\n",
    "\n",
    "X=[x1,x2,x1,x2]"
   ]
  },
  {
   "cell_type": "code",
   "execution_count": 2,
   "metadata": {},
   "outputs": [
    {
     "name": "stdout",
     "output_type": "stream",
     "text": [
      "[1, 2, 3]\n",
      "[4, 5, 6]\n",
      "[1, 0, 3]\n",
      "[4, 0, 6]\n"
     ]
    }
   ],
   "source": [
    "for i in X:\n",
    "    print(i)\n",
    "    i[1]=0"
   ]
  },
  {
   "cell_type": "code",
   "execution_count": 2,
   "metadata": {},
   "outputs": [
    {
     "data": {
      "text/plain": [
       "[1, 2, 3, 4, 5, 6]"
      ]
     },
     "execution_count": 2,
     "metadata": {},
     "output_type": "execute_result"
    }
   ],
   "source": [
    "x=[1,2,3]\n",
    "y=[4,5,6]\n",
    "z=[]\n",
    "z+=x+y\n",
    "z"
   ]
  },
  {
   "cell_type": "code",
   "execution_count": 18,
   "metadata": {},
   "outputs": [
    {
     "data": {
      "text/plain": [
       "array([[ 1.24782369e-03,  9.78071625e-04,  7.08319559e-04,\n",
       "         4.38567493e-04,  1.68815427e-04, -1.00936639e-04,\n",
       "        -3.70688705e-04, -6.40440771e-04, -9.10192837e-04,\n",
       "        -1.17994490e-03],\n",
       "       [ 9.78071625e-04,  7.66648301e-04,  5.55224977e-04,\n",
       "         3.43801653e-04,  1.32378329e-04, -7.90449954e-05,\n",
       "        -2.90468320e-04, -5.01891644e-04, -7.13314968e-04,\n",
       "        -9.24738292e-04],\n",
       "       [ 7.08319559e-04,  5.55224977e-04,  4.02130395e-04,\n",
       "         2.49035813e-04,  9.59412305e-05, -5.71533517e-05,\n",
       "        -2.10247934e-04, -3.63342516e-04, -5.16437098e-04,\n",
       "        -6.69531680e-04],\n",
       "       [ 4.38567493e-04,  3.43801653e-04,  2.49035813e-04,\n",
       "         1.54269972e-04,  5.95041322e-05, -3.52617080e-05,\n",
       "        -1.30027548e-04, -2.24793388e-04, -3.19559229e-04,\n",
       "        -4.14325069e-04],\n",
       "       [ 1.68815427e-04,  1.32378329e-04,  9.59412305e-05,\n",
       "         5.95041322e-05,  2.30670340e-05, -1.33700643e-05,\n",
       "        -4.98071625e-05, -8.62442608e-05, -1.22681359e-04,\n",
       "        -1.59118457e-04],\n",
       "       [-1.00936639e-04, -7.90449954e-05, -5.71533517e-05,\n",
       "        -3.52617080e-05, -1.33700643e-05,  8.52157943e-06,\n",
       "         3.04132231e-05,  5.23048669e-05,  7.41965106e-05,\n",
       "         9.60881543e-05],\n",
       "       [-3.70688705e-04, -2.90468320e-04, -2.10247934e-04,\n",
       "        -1.30027548e-04, -4.98071625e-05,  3.04132231e-05,\n",
       "         1.10633609e-04,  1.90853994e-04,  2.71074380e-04,\n",
       "         3.51294766e-04],\n",
       "       [-6.40440771e-04, -5.01891644e-04, -3.63342516e-04,\n",
       "        -2.24793388e-04, -8.62442608e-05,  5.23048669e-05,\n",
       "         1.90853994e-04,  3.29403122e-04,  4.67952250e-04,\n",
       "         6.06501377e-04],\n",
       "       [-9.10192837e-04, -7.13314968e-04, -5.16437098e-04,\n",
       "        -3.19559229e-04, -1.22681359e-04,  7.41965106e-05,\n",
       "         2.71074380e-04,  4.67952250e-04,  6.64830119e-04,\n",
       "         8.61707989e-04],\n",
       "       [-1.17994490e-03, -9.24738292e-04, -6.69531680e-04,\n",
       "        -4.14325069e-04, -1.59118457e-04,  9.60881543e-05,\n",
       "         3.51294766e-04,  6.06501377e-04,  8.61707989e-04,\n",
       "         1.11691460e-03]])"
      ]
     },
     "execution_count": 18,
     "metadata": {},
     "output_type": "execute_result"
    }
   ],
   "source": [
    "import numpy as np\n",
    "n=10\n",
    "A=np.arange(n**2).reshape((n,n))\n",
    "B=np.dot(np.transpose(A),A)\n",
    "np.linalg.pinv(B)"
   ]
  },
  {
   "cell_type": "code",
   "execution_count": 23,
   "metadata": {},
   "outputs": [
    {
     "data": {
      "text/plain": [
       "[[1, 3], [4, 5, 6], [7, 8, 9]]"
      ]
     },
     "execution_count": 23,
     "metadata": {},
     "output_type": "execute_result"
    }
   ],
   "source": [
    "test=[[1,2,3],[4,5,6],[7,8,9]]\n",
    "l=test[0]\n",
    "l.remove(2)\n",
    "test"
   ]
  },
  {
   "cell_type": "code",
   "execution_count": 3,
   "metadata": {},
   "outputs": [
    {
     "data": {
      "text/plain": [
       "[0, 0]"
      ]
     },
     "execution_count": 3,
     "metadata": {},
     "output_type": "execute_result"
    }
   ],
   "source": [
    "f=lambda x:2*x\n",
    "\n",
    "\n",
    "\n",
    "f([0])"
   ]
  },
  {
   "cell_type": "code",
   "execution_count": 4,
   "metadata": {},
   "outputs": [],
   "source": [
    "import numpy as np\n",
    "from scipy.optimize import fmin_slsqp\n",
    "\n",
    "T_h_in,T_c_in=550,300\n",
    "\n",
    "R_h,R_c=0.955299519035398,0.009137371917789051\n",
    "C_h,C_c=21.176851499999994,264.31750559999995\n",
    "\n",
    "s=0.123\n",
    "k=1.5\n",
    "r=4.5\n",
    "\n",
    "alpha_h=np.array([0.9+i/1000 for i in range(200)])\n",
    "alpha_c=np.array([0.9+i/1000 for i in range(200)])\n",
    "\n",
    "def cons1(x):\n",
    "    return T_h_in-x[0]\n",
    "\n",
    "def cons2(x):\n",
    "    return x[1]-T_c_in\n",
    "\n",
    "def cons3(x):\n",
    "    return x[0]-x[1]\n",
    "\n",
    "def cons4(x):\n",
    "    return x[0]\n",
    "\n",
    "def cons5(x):\n",
    "    return x[1]\n",
    "\n",
    "result=[]\n",
    "\n",
    "for i in alpha_h:\n",
    "    for j in alpha_c:\n",
    "                \n",
    "        def f(x):\n",
    "            T_h_mean=(T_h_in+x[0])*0.5*i\n",
    "            T_c_mean=(T_c_in+x[1])*0.5*j\n",
    "\n",
    "            q_h=(T_h_in-x[0])*C_h\n",
    "            q_c=(x[1]-T_c_in)*C_c\n",
    "\n",
    "            T_TEM_h=T_h_mean-q_h*R_h\n",
    "            T_TEM_c=T_c_mean+q_c*R_c\n",
    "\n",
    "            delT=T_TEM_h-T_TEM_c\n",
    "\n",
    "            I=s*delT/2/r\n",
    "\n",
    "            q_h_E=s*I*T_TEM_h+k*delT-0.5*I**2*r\n",
    "            q_c_E=s*I*T_TEM_c+k*delT+0.5*I**2*r\n",
    "\n",
    "            return (q_h-q_h_E)**2+(q_c-q_c_E)**2\n",
    "\n",
    "        result.append([i,j,fmin_slsqp(f,[T_h_in,T_c_in],ieqcons=[cons1,cons2,cons3,cons4,cons5],iprint=-1)])\n"
   ]
  },
  {
   "cell_type": "code",
   "execution_count": 5,
   "metadata": {},
   "outputs": [
    {
     "data": {
      "text/html": [
       "<div>\n",
       "<style scoped>\n",
       "    .dataframe tbody tr th:only-of-type {\n",
       "        vertical-align: middle;\n",
       "    }\n",
       "\n",
       "    .dataframe tbody tr th {\n",
       "        vertical-align: top;\n",
       "    }\n",
       "\n",
       "    .dataframe thead th {\n",
       "        text-align: right;\n",
       "    }\n",
       "</style>\n",
       "<table border=\"1\" class=\"dataframe\">\n",
       "  <thead>\n",
       "    <tr style=\"text-align: right;\">\n",
       "      <th></th>\n",
       "      <th>alpha_h</th>\n",
       "      <th>alpha_c</th>\n",
       "      <th>W</th>\n",
       "      <th>T_h_out</th>\n",
       "      <th>T_c_out</th>\n",
       "      <th>W_%</th>\n",
       "      <th>T_h_out_%</th>\n",
       "      <th>T_c_out_%</th>\n",
       "    </tr>\n",
       "  </thead>\n",
       "  <tbody>\n",
       "    <tr>\n",
       "      <th>0</th>\n",
       "      <td>0.900</td>\n",
       "      <td>0.900</td>\n",
       "      <td>4.653234</td>\n",
       "      <td>542.795640</td>\n",
       "      <td>300.559601</td>\n",
       "      <td>1.943511</td>\n",
       "      <td>1.006577</td>\n",
       "      <td>1.000466</td>\n",
       "    </tr>\n",
       "    <tr>\n",
       "      <th>1</th>\n",
       "      <td>0.900</td>\n",
       "      <td>0.901</td>\n",
       "      <td>4.639584</td>\n",
       "      <td>542.804836</td>\n",
       "      <td>300.558916</td>\n",
       "      <td>1.937810</td>\n",
       "      <td>1.006594</td>\n",
       "      <td>1.000463</td>\n",
       "    </tr>\n",
       "    <tr>\n",
       "      <th>2</th>\n",
       "      <td>0.900</td>\n",
       "      <td>0.902</td>\n",
       "      <td>4.626171</td>\n",
       "      <td>542.814029</td>\n",
       "      <td>300.558230</td>\n",
       "      <td>1.932207</td>\n",
       "      <td>1.006611</td>\n",
       "      <td>1.000461</td>\n",
       "    </tr>\n",
       "    <tr>\n",
       "      <th>3</th>\n",
       "      <td>0.900</td>\n",
       "      <td>0.903</td>\n",
       "      <td>4.612670</td>\n",
       "      <td>542.823226</td>\n",
       "      <td>300.557545</td>\n",
       "      <td>1.926568</td>\n",
       "      <td>1.006628</td>\n",
       "      <td>1.000459</td>\n",
       "    </tr>\n",
       "    <tr>\n",
       "      <th>4</th>\n",
       "      <td>0.900</td>\n",
       "      <td>0.904</td>\n",
       "      <td>4.599255</td>\n",
       "      <td>542.832423</td>\n",
       "      <td>300.556859</td>\n",
       "      <td>1.920965</td>\n",
       "      <td>1.006646</td>\n",
       "      <td>1.000456</td>\n",
       "    </tr>\n",
       "    <tr>\n",
       "      <th>...</th>\n",
       "      <td>...</td>\n",
       "      <td>...</td>\n",
       "      <td>...</td>\n",
       "      <td>...</td>\n",
       "      <td>...</td>\n",
       "      <td>...</td>\n",
       "      <td>...</td>\n",
       "      <td>...</td>\n",
       "    </tr>\n",
       "    <tr>\n",
       "      <th>39995</th>\n",
       "      <td>1.099</td>\n",
       "      <td>1.095</td>\n",
       "      <td>6.454068</td>\n",
       "      <td>541.036314</td>\n",
       "      <td>300.693744</td>\n",
       "      <td>2.695663</td>\n",
       "      <td>1.003315</td>\n",
       "      <td>1.000912</td>\n",
       "    </tr>\n",
       "    <tr>\n",
       "      <th>39996</th>\n",
       "      <td>1.099</td>\n",
       "      <td>1.096</td>\n",
       "      <td>6.438526</td>\n",
       "      <td>541.045591</td>\n",
       "      <td>300.693059</td>\n",
       "      <td>2.689171</td>\n",
       "      <td>1.003332</td>\n",
       "      <td>1.000910</td>\n",
       "    </tr>\n",
       "    <tr>\n",
       "      <th>39997</th>\n",
       "      <td>1.099</td>\n",
       "      <td>1.097</td>\n",
       "      <td>6.422989</td>\n",
       "      <td>541.054867</td>\n",
       "      <td>300.692375</td>\n",
       "      <td>2.682682</td>\n",
       "      <td>1.003349</td>\n",
       "      <td>1.000907</td>\n",
       "    </tr>\n",
       "    <tr>\n",
       "      <th>39998</th>\n",
       "      <td>1.099</td>\n",
       "      <td>1.098</td>\n",
       "      <td>6.407498</td>\n",
       "      <td>541.064146</td>\n",
       "      <td>300.691690</td>\n",
       "      <td>2.676212</td>\n",
       "      <td>1.003366</td>\n",
       "      <td>1.000905</td>\n",
       "    </tr>\n",
       "    <tr>\n",
       "      <th>39999</th>\n",
       "      <td>1.099</td>\n",
       "      <td>1.099</td>\n",
       "      <td>6.392025</td>\n",
       "      <td>541.073425</td>\n",
       "      <td>300.691005</td>\n",
       "      <td>2.669749</td>\n",
       "      <td>1.003384</td>\n",
       "      <td>1.000903</td>\n",
       "    </tr>\n",
       "  </tbody>\n",
       "</table>\n",
       "<p>40000 rows × 8 columns</p>\n",
       "</div>"
      ],
      "text/plain": [
       "       alpha_h  alpha_c         W     T_h_out     T_c_out       W_%  \\\n",
       "0        0.900    0.900  4.653234  542.795640  300.559601  1.943511   \n",
       "1        0.900    0.901  4.639584  542.804836  300.558916  1.937810   \n",
       "2        0.900    0.902  4.626171  542.814029  300.558230  1.932207   \n",
       "3        0.900    0.903  4.612670  542.823226  300.557545  1.926568   \n",
       "4        0.900    0.904  4.599255  542.832423  300.556859  1.920965   \n",
       "...        ...      ...       ...         ...         ...       ...   \n",
       "39995    1.099    1.095  6.454068  541.036314  300.693744  2.695663   \n",
       "39996    1.099    1.096  6.438526  541.045591  300.693059  2.689171   \n",
       "39997    1.099    1.097  6.422989  541.054867  300.692375  2.682682   \n",
       "39998    1.099    1.098  6.407498  541.064146  300.691690  2.676212   \n",
       "39999    1.099    1.099  6.392025  541.073425  300.691005  2.669749   \n",
       "\n",
       "       T_h_out_%  T_c_out_%  \n",
       "0       1.006577   1.000466  \n",
       "1       1.006594   1.000463  \n",
       "2       1.006611   1.000461  \n",
       "3       1.006628   1.000459  \n",
       "4       1.006646   1.000456  \n",
       "...          ...        ...  \n",
       "39995   1.003315   1.000912  \n",
       "39996   1.003332   1.000910  \n",
       "39997   1.003349   1.000907  \n",
       "39998   1.003366   1.000905  \n",
       "39999   1.003384   1.000903  \n",
       "\n",
       "[40000 rows x 8 columns]"
      ]
     },
     "execution_count": 5,
     "metadata": {},
     "output_type": "execute_result"
    }
   ],
   "source": [
    "def g(arr):\n",
    "    t=arr[2]\n",
    "    T_h_out=t[0]\n",
    "    T_c_out=t[1]\n",
    "\n",
    "    q_h=(T_h_in-T_h_out)*C_h\n",
    "    q_c=(T_c_out-T_c_in)*C_c\n",
    "    return [arr[0],arr[1],q_h-q_c,t[0],t[1]]\n",
    "\n",
    "anal=[]\n",
    "\n",
    "for i in result:\n",
    "    anal.append(g(i))\n",
    "\n",
    "import pandas as pd\n",
    "\n",
    "df=pd.DataFrame(anal,columns=['alpha_h','alpha_c','W','T_h_out','T_c_out'])\n",
    "df['W_%']=df['W']/df['W'].min()\n",
    "df['T_h_out_%']=df['T_h_out']/df['T_h_out'].min()\n",
    "df['T_c_out_%']=df['T_c_out']/df['T_c_out'].min()\n",
    "df\n"
   ]
  },
  {
   "cell_type": "code",
   "execution_count": 6,
   "metadata": {},
   "outputs": [],
   "source": [
    "df.to_csv('dataset.csv')"
   ]
  },
  {
   "cell_type": "code",
   "execution_count": null,
   "metadata": {},
   "outputs": [],
   "source": []
  }
 ],
 "metadata": {
  "kernelspec": {
   "display_name": "Python 3.9.12 ('base')",
   "language": "python",
   "name": "python3"
  },
  "language_info": {
   "codemirror_mode": {
    "name": "ipython",
    "version": 3
   },
   "file_extension": ".py",
   "mimetype": "text/x-python",
   "name": "python",
   "nbconvert_exporter": "python",
   "pygments_lexer": "ipython3",
   "version": "3.9.12"
  },
  "orig_nbformat": 4,
  "vscode": {
   "interpreter": {
    "hash": "0987569110f5f7df05f6ad8acc59b65acd4a1949bbbda04f5ede393329b91967"
   }
  }
 },
 "nbformat": 4,
 "nbformat_minor": 2
}
